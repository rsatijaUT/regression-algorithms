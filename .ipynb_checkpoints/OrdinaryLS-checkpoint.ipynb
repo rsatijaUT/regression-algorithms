{
 "cells": [
  {
   "cell_type": "markdown",
   "metadata": {},
   "source": [
    "# Ordinary Least Squares Regression Task"
   ]
  },
  {
   "cell_type": "markdown",
   "metadata": {},
   "source": [
    "__Equivalent to maximizing the likelihood function for the case of i.i.d noise in a one-dimensional time series__"
   ]
  },
  {
   "cell_type": "code",
   "execution_count": 1,
   "metadata": {},
   "outputs": [],
   "source": [
    "import numpy as np\n",
    "import matplotlib.pyplot as plt\n",
    "import pandas as pd"
   ]
  },
  {
   "cell_type": "code",
   "execution_count": 9,
   "metadata": {},
   "outputs": [],
   "source": [
    "#Given two 1D arrays X and Y of equal size, the function ols(X,Y) returns the tuple (m,b) corresponding to the \n",
    "#slope (m) and intercept (b) of the best fit linear model Y = mX+b\n",
    "\n",
    "def ols(X,Y):\n",
    "    X_mean=np.mean(X)\n",
    "    Y_mean=np.mean(Y)\n",
    "    \n",
    "    l=len(X)\n",
    "    \n",
    "    num=0\n",
    "    den=0\n",
    "    for i in range(l):\n",
    "        num += (X[i]-X_mean) * (Y[i]-Y_mean)\n",
    "        den += (X[i]-X_mean) ** 2\n",
    "        \n",
    "    m=num/den\n",
    "    b=Y_mean - (m*X_mean)\n",
    "    \n",
    "    return (m,b)"
   ]
  },
  {
   "cell_type": "code",
   "execution_count": 13,
   "metadata": {},
   "outputs": [
    {
     "data": {
      "image/png": "[encoded data removed]",
      "text/plain": [
       "<Figure size 432x288 with 1 Axes>"
      ]
     },
     "metadata": {
      "needs_background": "light"
     },
     "output_type": "display_data"
    }
   ],
   "source": [
    "#Sanity Check\n",
    "x=np.linspace(0.05,1.25,10)\n",
    "y=2*x+1\n",
    "p1=plt.plot(x, y, \"o\", ms=8, alpha=0.5, label='Training')\n",
    "\n",
    "m,b=ols(x,y)\n",
    "\n",
    "linear_plot=plt.plot(x, m*x+b, label='Linear')"
   ]
  },
  {
   "cell_type": "code",
   "execution_count": null,
   "metadata": {},
   "outputs": [],
   "source": [
    "#Testing the model on i.i.d noise, akin to biased Brownian particle\n",
    "\n"
   ]
  }
 ],
 "metadata": {
  "kernelspec": {
   "display_name": "Python 3",
   "language": "python",
   "name": "python3"
  },
  "language_info": {
   "codemirror_mode": {
    "name": "ipython",
    "version": 3
   },
   "file_extension": ".py",
   "mimetype": "text/x-python",
   "name": "python",
   "nbconvert_exporter": "python",
   "pygments_lexer": "ipython3",
   "version": "3.7.6"
  }
 },
 "nbformat": 4,
 "nbformat_minor": 4
}
